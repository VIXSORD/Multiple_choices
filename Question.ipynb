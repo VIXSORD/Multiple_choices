{
  "nbformat": 4,
  "nbformat_minor": 0,
  "metadata": {
    "colab": {
      "name": "Question.ipynb",
      "provenance": [],
      "collapsed_sections": []
    },
    "kernelspec": {
      "name": "python3",
      "display_name": "Python 3"
    }
  },
  "cells": [
    {
      "cell_type": "code",
      "metadata": {
        "id": "WvNmIUI_DkZD",
        "colab_type": "code",
        "colab": {}
      },
      "source": [
        "class Question:\n",
        "    def __init__(self, prompt, answer):\n",
        "        self.prompt = prompt\n",
        "        self.answer = answer"
      ],
      "execution_count": null,
      "outputs": []
    }
  ]
}