{
  "nbformat": 4,
  "nbformat_minor": 0,
  "metadata": {
    "colab": {
      "name": "Multiple choice.ipynb",
      "provenance": [],
      "collapsed_sections": []
    },
    "kernelspec": {
      "name": "python3",
      "display_name": "Python 3"
    }
  },
  "cells": [
    {
      "cell_type": "code",
      "metadata": {
        "id": "uxsdbnXlKK64",
        "colab_type": "code",
        "colab": {}
      },
      "source": [
        "from Question import Question\n",
        "question_prompt = [\n",
        "    \"What is the color of an apple?\\n(a) red/green\\n(b) orange\\n(c) Blue\\n\\n\",\n",
        "    \"What does leo messi play?\\n(a) Basketball\\n(b) Football\\n(c) Cricket\\n\\n\"\n",
        "]\n",
        "\n",
        "questions = [\n",
        "   Question(question_prompt[0], \"a\"),\n",
        "   Question(question_prompt[1], \"b\"),\n",
        "]\n",
        "\n",
        "def run_test(questions):\n",
        "    score = 0\n",
        "    for question in questions:\n",
        "        answer = input(question.prompt)\n",
        "        if answer == question.answer:\n",
        "            score =+ 1\n",
        "\n",
        "    print(\"You got \" + str(score) + \"/\" + str(len(questions)) + \" correct.\")\n",
        "run_test(questions)"
      ],
      "execution_count": null,
      "outputs": []
    }
  ]
}